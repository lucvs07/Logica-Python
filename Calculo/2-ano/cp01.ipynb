{
 "cells": [
  {
   "cell_type": "code",
   "execution_count": 1,
   "metadata": {},
   "outputs": [],
   "source": [
    "#import sympy, numpy, pandas\n",
    "import sympy as sp\n",
    "import numpy as np\n",
    "import pandas as pd\n"
   ]
  },
  {
   "cell_type": "code",
   "execution_count": 5,
   "metadata": {},
   "outputs": [
    {
     "name": "stdout",
     "output_type": "stream",
     "text": [
      "    n  p   q  r\n",
      "0  36  9  14  3\n"
     ]
    }
   ],
   "source": [
    "# Input to get a RM from user in the format : ABCDEF\n",
    "rm = input(\"Enter the RM: \")\n",
    "a = int(rm[0])\n",
    "b = int(rm[1])\n",
    "c = int(rm[2])\n",
    "d = int(rm[3])\n",
    "e = int(rm[4])\n",
    "f = int(rm[5])\n",
    "n = 4 * (c + 1)\n",
    "p = 3 * (d + 1)\n",
    "q = 2 * (e + 1)\n",
    "r = f + 2\n",
    "\n",
    "# create a dataframe to store the values of the RM\n",
    "data = {'n': [n], 'p': [p], 'q': [q], 'r': [r]}\n",
    "df = pd.DataFrame(data)\n",
    "print(df)"
   ]
  },
  {
   "cell_type": "code",
   "execution_count": 7,
   "metadata": {},
   "outputs": [
    {
     "data": {
      "text/latex": [
       "$\\displaystyle 9 x^{4} + 3 x^{3} - 7 x^{2} + 3 x$"
      ],
      "text/plain": [
       "9*x**4 + 3*x**3 - 7*x**2 + 3*x"
      ]
     },
     "execution_count": 7,
     "metadata": {},
     "output_type": "execute_result"
    }
   ],
   "source": [
    "# Questão 01\n",
    "# Integrar com a biblioteca sympy\n",
    "x = sp.symbols('x')\n",
    "expr1 = n*x**3 + p*x**2 - q*x + r\n",
    "integral_expr1 = sp.integrate(expr1, x)\n",
    "integral_expr1"
   ]
  },
  {
   "cell_type": "code",
   "execution_count": 9,
   "metadata": {},
   "outputs": [
    {
     "name": "stdout",
     "output_type": "stream",
     "text": [
      "Termo: 9*x**4, Valor: 729\n",
      "Termo: 3*x**3, Valor: -81\n",
      "Termo: -7*x**2, Valor: -63\n",
      "Termo: 3*x, Valor: -9\n"
     ]
    }
   ],
   "source": [
    "# Substituir x por -3 na expressão integral\n",
    "x_value = -3\n",
    "integral_expr1_subs = integral_expr1.subs(x, x_value)\n",
    "\n",
    "# Calcular e imprimir cada termo separado\n",
    "terms = integral_expr1.as_ordered_terms()\n",
    "for term in terms:\n",
    "    term_value = term.subs(x, x_value)\n",
    "    print(f\"Termo: {term}, Valor: {term_value}\")"
   ]
  },
  {
   "cell_type": "code",
   "execution_count": 12,
   "metadata": {},
   "outputs": [
    {
     "data": {
      "text/latex": [
       "$\\displaystyle 36 x^{3} + 9 x^{2} - 14 x + 3$"
      ],
      "text/plain": [
       "36*x**3 + 9*x**2 - 14*x + 3"
      ]
     },
     "execution_count": 12,
     "metadata": {},
     "output_type": "execute_result"
    }
   ],
   "source": [
    "# Calcular a primeira derivada da função primitiva\n",
    "first_derivative = sp.diff(integral_expr1, x)\n",
    "first_derivative\n"
   ]
  },
  {
   "cell_type": "code",
   "execution_count": 13,
   "metadata": {},
   "outputs": [
    {
     "data": {
      "text/latex": [
       "$\\displaystyle 108 x^{2} + 18 x - 14$"
      ],
      "text/plain": [
       "108*x**2 + 18*x - 14"
      ]
     },
     "execution_count": 13,
     "metadata": {},
     "output_type": "execute_result"
    }
   ],
   "source": [
    "# Calcular a segunda derivada da função primitiva\n",
    "second_derivative = sp.diff(first_derivative, x)\n",
    "second_derivative"
   ]
  },
  {
   "cell_type": "code",
   "execution_count": 14,
   "metadata": {},
   "outputs": [
    {
     "name": "stdout",
     "output_type": "stream",
     "text": [
      "Termo: 36*x**3, Valor: -288\n",
      "Termo: 9*x**2, Valor: 36\n",
      "Termo: -14*x, Valor: 28\n",
      "Termo: 3, Valor: 3\n"
     ]
    }
   ],
   "source": [
    "# Substituir x por -2 na primeira derivada\n",
    "x_value_new = -2\n",
    "first_derivative_subs = first_derivative.subs(x, x_value_new)\n",
    "\n",
    "# Calcular e imprimir cada termo separado\n",
    "terms_first_derivative = first_derivative.as_ordered_terms()\n",
    "for term in terms_first_derivative:\n",
    "    term_value_new = term.subs(x, x_value_new)\n",
    "    print(f\"Termo: {term}, Valor: {term_value_new}\")"
   ]
  },
  {
   "cell_type": "code",
   "execution_count": 24,
   "metadata": {},
   "outputs": [
    {
     "data": {
      "text/latex": [
       "$\\displaystyle 14 \\log{\\left(x \\right)} + \\frac{3 x + 9}{x^{4}}$"
      ],
      "text/plain": [
       "14*log(x) + (3*x + 9)/x**4"
      ]
     },
     "execution_count": 24,
     "metadata": {},
     "output_type": "execute_result"
    }
   ],
   "source": [
    "# Integrar com a biblioteca sympy\n",
    "x = sp.symbols('x')\n",
    "expr2 = q / x - p / x**4 - n / x**5\n",
    "integral_expr2 = sp.integrate(expr2, x)\n",
    "integral_expr2"
   ]
  },
  {
   "cell_type": "code",
   "execution_count": 26,
   "metadata": {},
   "outputs": [
    {
     "data": {
      "text/latex": [
       "$\\displaystyle \\log{\\left(2 \\right)}$"
      ],
      "text/plain": [
       "log(2)"
      ]
     },
     "execution_count": 26,
     "metadata": {},
     "output_type": "execute_result"
    }
   ],
   "source": [
    "# Calcular o logaritmo natural de um número\n",
    "numero = 2 # exemplo de número\n",
    "logaritmo_natural = sp.log(numero)\n",
    "logaritmo_natural"
   ]
  },
  {
   "cell_type": "code",
   "execution_count": 27,
   "metadata": {},
   "outputs": [],
   "source": [
    "import math"
   ]
  },
  {
   "cell_type": "code",
   "execution_count": 35,
   "metadata": {},
   "outputs": [
    {
     "name": "stdout",
     "output_type": "stream",
     "text": [
      "-2.36\n",
      "-1.36\n"
     ]
    }
   ],
   "source": [
    "ln_2 = math.log(2)\n",
    "t1 = ln_2 * 14\n",
    "t2 = 3 / 8\n",
    "t3 = 9 / 16\n",
    "\n",
    "expr3 = t1 + t2 + t3 - 13\n",
    "res1 = -1\n",
    "t = round(expr3, 2) - res1\n",
    "print(round(expr3, 2))\n",
    "print(round(t, 2))"
   ]
  },
  {
   "cell_type": "code",
   "execution_count": 45,
   "metadata": {},
   "outputs": [
    {
     "data": {
      "text/latex": [
       "$\\displaystyle \\frac{196 y^{3}}{3} - 42 y^{2} + 9 y$"
      ],
      "text/plain": [
       "196*y**3/3 - 42*y**2 + 9*y"
      ]
     },
     "execution_count": 45,
     "metadata": {},
     "output_type": "execute_result"
    }
   ],
   "source": [
    "# Definir a variável y\n",
    "y = sp.symbols('y')\n",
    "\n",
    "# Definir a expressão (14y - 3)^2\n",
    "expr_3 = (14*y - 3)**2\n",
    "\n",
    "# Calcular a integral da expressão em relação a y\n",
    "integral_expr_3 = sp.integrate(expr_3, y)\n",
    "integral_expr_3"
   ]
  },
  {
   "cell_type": "code",
   "execution_count": 46,
   "metadata": {},
   "outputs": [
    {
     "data": {
      "text/latex": [
       "$\\displaystyle 196 y^{2} - 84 y + 9$"
      ],
      "text/plain": [
       "196*y**2 - 84*y + 9"
      ]
     },
     "execution_count": 46,
     "metadata": {},
     "output_type": "execute_result"
    }
   ],
   "source": [
    "first_derivative_expr_3 = sp.diff(integral_expr_3, y)\n",
    "first_derivative_expr_3"
   ]
  },
  {
   "cell_type": "code",
   "execution_count": 47,
   "metadata": {},
   "outputs": [
    {
     "data": {
      "text/latex": [
       "$\\displaystyle 392 y - 84$"
      ],
      "text/plain": [
       "392*y - 84"
      ]
     },
     "execution_count": 47,
     "metadata": {},
     "output_type": "execute_result"
    }
   ],
   "source": [
    "second_derivative_expr_3 = sp.diff(first_derivative_expr_3, y)\n",
    "second_derivative_expr_3"
   ]
  },
  {
   "cell_type": "code",
   "execution_count": 41,
   "metadata": {},
   "outputs": [
    {
     "name": "stdout",
     "output_type": "stream",
     "text": [
      "4181.33\n"
     ]
    }
   ],
   "source": [
    "val = 12544 / 3\n",
    "print(round(val, 2))"
   ]
  },
  {
   "cell_type": "code",
   "execution_count": null,
   "metadata": {},
   "outputs": [
    {
     "name": "stdout",
     "output_type": "stream",
     "text": [
      "2610.333333333333\n"
     ]
    }
   ],
   "source": [
    "val_c = -2279 + val + 672 + 36\n",
    "print(val_c)"
   ]
  },
  {
   "cell_type": "code",
   "execution_count": null,
   "metadata": {},
   "outputs": [
    {
     "name": "stdout",
     "output_type": "stream",
     "text": [
      "1901.6633333333334\n"
     ]
    }
   ],
   "source": [
    "val_fun2 = -1568/3 - 168 - 18 + 2610.33\n",
    "print(val_fun2)"
   ]
  },
  {
   "cell_type": "code",
   "execution_count": 49,
   "metadata": {},
   "outputs": [
    {
     "name": "stdout",
     "output_type": "stream",
     "text": [
      "2767.66\n"
     ]
    }
   ],
   "source": [
    "val_fun3 = -868\n",
    "val_t = val_fun2 - val_fun3 - 2\n",
    "print(round(val_t,2))"
   ]
  },
  {
   "cell_type": "code",
   "execution_count": 53,
   "metadata": {},
   "outputs": [
    {
     "name": "stdout",
     "output_type": "stream",
     "text": [
      "2110.333333333333\n"
     ]
    }
   ],
   "source": [
    "termo1 = (196*(-4)**3)/3\n",
    "termo2 = -(42*(-4)**2)\n",
    "termo3 = 9*(-4)\n",
    "valor_c = -(termo1 + termo2 + termo3+2779)\n",
    "print(valor_c)"
   ]
  },
  {
   "cell_type": "code",
   "execution_count": 57,
   "metadata": {},
   "outputs": [
    {
     "name": "stdout",
     "output_type": "stream",
     "text": [
      "1401.6666666666665\n"
     ]
    }
   ],
   "source": [
    "termo4 = (196*(-2)**3)/3\n",
    "termo5 = -(42*(-2)**2)\n",
    "termo6 = 9*(-2)\n",
    "valor_fun2 = termo4 + termo5 + termo6 + valor_c\n",
    "print(valor_fun2)"
   ]
  },
  {
   "cell_type": "code",
   "execution_count": 59,
   "metadata": {},
   "outputs": [
    {
     "name": "stdout",
     "output_type": "stream",
     "text": [
      "2267.67\n"
     ]
    }
   ],
   "source": [
    "valor_t = valor_fun2 - (-868) - 2\n",
    "print(round(valor_t, 2))"
   ]
  },
  {
   "cell_type": "code",
   "execution_count": 67,
   "metadata": {},
   "outputs": [
    {
     "data": {
      "text/latex": [
       "$\\displaystyle 27 y^{\\frac{4}{3}}$"
      ],
      "text/plain": [
       "27*y**(4/3)"
      ]
     },
     "execution_count": 67,
     "metadata": {},
     "output_type": "execute_result"
    }
   ],
   "source": [
    "# Definir a variável\n",
    "y = sp.symbols('y')\n",
    "\n",
    "# Definir a função com raízes cúbicas\n",
    "func = 36 * sp.cbrt(y)\n",
    "func2 = 9 / sp.cbrt(y) \n",
    "func3 = 3\n",
    "\n",
    "# Calcular a integral da função\n",
    "integral_func = sp.integrate(func, y)\n",
    "integral_func\n"
   ]
  },
  {
   "cell_type": "code",
   "execution_count": 68,
   "metadata": {},
   "outputs": [
    {
     "data": {
      "text/latex": [
       "$\\displaystyle \\frac{27 y^{\\frac{2}{3}}}{2}$"
      ],
      "text/plain": [
       "27*y**(2/3)/2"
      ]
     },
     "execution_count": 68,
     "metadata": {},
     "output_type": "execute_result"
    }
   ],
   "source": [
    "integral_func2 = sp.integrate(func2, y)\n",
    "integral_func2"
   ]
  },
  {
   "cell_type": "code",
   "execution_count": 69,
   "metadata": {},
   "outputs": [
    {
     "data": {
      "text/latex": [
       "$\\displaystyle 3 y$"
      ],
      "text/plain": [
       "3*y"
      ]
     },
     "execution_count": 69,
     "metadata": {},
     "output_type": "execute_result"
    }
   ],
   "source": [
    "integral_func3 = sp.integrate(func3, y)\n",
    "integral_func3"
   ]
  },
  {
   "cell_type": "code",
   "execution_count": 83,
   "metadata": {},
   "outputs": [],
   "source": [
    "func_final = integral_func +(-integral_func2) + integral_func3"
   ]
  },
  {
   "cell_type": "code",
   "execution_count": 85,
   "metadata": {},
   "outputs": [
    {
     "data": {
      "text/latex": [
       "$\\displaystyle 27 y^{\\frac{4}{3}} - \\frac{27 y^{\\frac{2}{3}}}{2} + 3 y$"
      ],
      "text/plain": [
       "27*y**(4/3) - 27*y**(2/3)/2 + 3*y"
      ]
     },
     "execution_count": 85,
     "metadata": {},
     "output_type": "execute_result"
    }
   ],
   "source": [
    "func_final"
   ]
  },
  {
   "cell_type": "code",
   "execution_count": 78,
   "metadata": {},
   "outputs": [
    {
     "name": "stdout",
     "output_type": "stream",
     "text": [
      "(-0.5000000000000004-0.8660254037844385j)\n"
     ]
    }
   ],
   "source": [
    "val = 4/3\n",
    "cel_1 = (-1) ** val\n",
    "print(cel_1)"
   ]
  },
  {
   "cell_type": "code",
   "execution_count": 88,
   "metadata": {},
   "outputs": [
    {
     "name": "stdout",
     "output_type": "stream",
     "text": [
      "(0.5000000000000001+0.8660254037844386j)\n"
     ]
    }
   ],
   "source": [
    "print((-1)**(1/3))"
   ]
  },
  {
   "cell_type": "code",
   "execution_count": 92,
   "metadata": {},
   "outputs": [
    {
     "data": {
      "text/latex": [
       "$\\displaystyle 4$"
      ],
      "text/plain": [
       "4"
      ]
     },
     "execution_count": 92,
     "metadata": {},
     "output_type": "execute_result"
    }
   ],
   "source": [
    "# Definir o número\n",
    "numero = 64  # exemplo de número\n",
    "\n",
    "# Calcular a raiz cúbica\n",
    "raiz_cubica = sp.cbrt(numero)\n",
    "raiz_cubica"
   ]
  }
 ],
 "metadata": {
  "kernelspec": {
   "display_name": "base",
   "language": "python",
   "name": "python3"
  },
  "language_info": {
   "codemirror_mode": {
    "name": "ipython",
    "version": 3
   },
   "file_extension": ".py",
   "mimetype": "text/x-python",
   "name": "python",
   "nbconvert_exporter": "python",
   "pygments_lexer": "ipython3",
   "version": "3.12.4"
  }
 },
 "nbformat": 4,
 "nbformat_minor": 2
}
