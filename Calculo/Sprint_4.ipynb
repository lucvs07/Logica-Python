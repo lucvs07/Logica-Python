{
  "nbformat": 4,
  "nbformat_minor": 0,
  "metadata": {
    "colab": {
      "provenance": [],
      "toc_visible": true,
      "collapsed_sections": [
        "GDuLB2L9gcj3",
        "VPYVJtjzgPFN",
        "XNOdgwmVnNkt",
        "ynUNDPq9nhu6",
        "PaI0PW_ZsjZQ"
      ]
    },
    "kernelspec": {
      "name": "python3",
      "display_name": "Python 3"
    },
    "language_info": {
      "name": "python"
    }
  },
  "cells": [
    {
      "cell_type": "markdown",
      "source": [
        "\n",
        "\n",
        "> Importações e Configurações Gerais\n",
        "\n"
      ],
      "metadata": {
        "id": "d4ZHqsg5diel"
      }
    },
    {
      "cell_type": "code",
      "execution_count": 3,
      "metadata": {
        "id": "3Yrs6d_ck4sl"
      },
      "outputs": [],
      "source": [
        "import sympy as sp\n",
        "from sympy import *\n",
        "import numpy as np\n",
        "import matplotlib.pyplot as plt"
      ]
    },
    {
      "cell_type": "markdown",
      "source": [
        "# SPRINT 4 - DEV4 - 1ECB"
      ],
      "metadata": {
        "id": "ksPYijXMct7H"
      }
    },
    {
      "cell_type": "markdown",
      "source": [
        "Integrantes do Grupo:\n",
        "\n",
        "      - Nome                       | RM\n",
        "      - Ana Luiza Oliveira Dourado | 558793\n",
        "      - Lucas Rodrigues Grecco     | 558261\n",
        "      - Monique Ferreira dos Anjos | 558262\n",
        "      - Felipe Wapf Fettback       | 557217\n",
        "      - Ronaldo Veloso Filho       | 556445"
      ],
      "metadata": {
        "id": "cndeVP3U1b3l"
      }
    },
    {
      "cell_type": "markdown",
      "source": [
        "### Introdução ao Case"
      ],
      "metadata": {
        "id": "GDuLB2L9gcj3"
      }
    },
    {
      "cell_type": "markdown",
      "source": [],
      "metadata": {
        "id": "_-Lv8uic1Xf7"
      }
    },
    {
      "cell_type": "markdown",
      "source": [
        "Imaginem que sua equipe fundou uma empresa, em parceria com a John Deere©, com atuação no setor de robótica. Considere que o lucro anual L em reais (R$) dessa empresa do setor de tecnologia é estimado (projetado) pela função\n",
        "\n",
        "                L(y) = 3y5  -  585y³  +  43740y  -  T,      com    - 10 = y = 10\n",
        "\n",
        "                 onde y = 0 representa 1.o de janeiro do ano de 2024;      y = 1 é 1.o de janeiro de 2025,  y = - 1 é 1.o de janeiro de 2023, e assim por diante.\n",
        "\n",
        "Para obter o valor de T:\n",
        "\n",
        "Escolher apenas um único RM da equipe. Somar todos os algarismos do RM escolhido. Multiplicar a soma obtida por “1000” (mil)."
      ],
      "metadata": {
        "id": "peh27u4Cf95g"
      }
    },
    {
      "cell_type": "code",
      "source": [
        "def soma_rm(rm):\n",
        "    return sum(int(i) for i in str(rm))\n",
        "rm = int(input(\"Insira seu rm: \"))\n",
        "#z = calcular a soma dos digitos do rm e multiplicar por 3000\n",
        "t = soma_rm(rm)*1000\n",
        "print(f'O rm escolhido é {rm} e o valor de T é {t}')"
      ],
      "metadata": {
        "colab": {
          "base_uri": "https://localhost:8080/",
          "height": 0
        },
        "id": "Fc57t3w1cw6P",
        "outputId": "8b1ba695-0126-413d-f0db-2a13e8183625"
      },
      "execution_count": 4,
      "outputs": [
        {
          "output_type": "stream",
          "name": "stdout",
          "text": [
            "Insira seu rm: 558261\n",
            "O rm escolhido é 558261 e o valor de T é 27000\n"
          ]
        }
      ]
    },
    {
      "cell_type": "markdown",
      "source": [
        "### Questão 1 - Determinar as coordenadas dos pontos críticos da função lucro"
      ],
      "metadata": {
        "id": "VPYVJtjzgPFN"
      }
    },
    {
      "cell_type": "code",
      "source": [
        "# y = variável da função\n",
        "y = sp.Symbol('y')\n",
        "# L = Lucro anual em reais\n",
        "L = 3*y**5 - 585*y**3 + 43740*y - t\n",
        "print(f'Função N(V): ')\n",
        "L\n"
      ],
      "metadata": {
        "colab": {
          "base_uri": "https://localhost:8080/",
          "height": 56
        },
        "id": "OMIlWAsfgYe1",
        "outputId": "79e39d50-ff00-4545-8def-374f8dc9e44d"
      },
      "execution_count": 5,
      "outputs": [
        {
          "output_type": "stream",
          "name": "stdout",
          "text": [
            "Função N(V): \n"
          ]
        },
        {
          "output_type": "execute_result",
          "data": {
            "text/plain": [
              "3*y**5 - 585*y**3 + 43740*y - 27000"
            ],
            "text/latex": "$\\displaystyle 3 y^{5} - 585 y^{3} + 43740 y - 27000$"
          },
          "metadata": {},
          "execution_count": 5
        }
      ]
    },
    {
      "cell_type": "code",
      "source": [
        "# Calcular a primeira derivada de L em relação a y\n",
        "L_primeira_derivada = sp.diff(L, y)\n",
        "print(f'Primeira Derivada de L em relação a y: ')\n",
        "L_primeira_derivada"
      ],
      "metadata": {
        "colab": {
          "base_uri": "https://localhost:8080/",
          "height": 56
        },
        "id": "MoJmkdtGhWfH",
        "outputId": "a0e7d92e-5883-4465-c791-6ffe8c4fed0f"
      },
      "execution_count": 6,
      "outputs": [
        {
          "output_type": "stream",
          "name": "stdout",
          "text": [
            "Primeira Derivada de L em relação a y: \n"
          ]
        },
        {
          "output_type": "execute_result",
          "data": {
            "text/plain": [
              "15*y**4 - 1755*y**2 + 43740"
            ],
            "text/latex": "$\\displaystyle 15 y^{4} - 1755 y^{2} + 43740$"
          },
          "metadata": {},
          "execution_count": 6
        }
      ]
    },
    {
      "cell_type": "code",
      "source": [
        "# Resolver L'(y) = 0 para encontrar os pontos críticos\n",
        "pontos_criticos = sp.solve(L_primeira_derivada, y)\n",
        "print(f'Pontos críticos são: {pontos_criticos}')\n",
        "\n"
      ],
      "metadata": {
        "colab": {
          "base_uri": "https://localhost:8080/",
          "height": 0
        },
        "id": "-QuTROcQh_HG",
        "outputId": "4a27a128-d9a5-4752-85ef-6b1b877f0187"
      },
      "execution_count": 7,
      "outputs": [
        {
          "output_type": "stream",
          "name": "stdout",
          "text": [
            "Pontos críticos são: [-9, -6, 6, 9]\n"
          ]
        }
      ]
    },
    {
      "cell_type": "code",
      "source": [
        "# Calcular a segunda derivada para determinar se é máximo ou mínimo\n",
        "L_segunda_derivada = sp.diff(L_primeira_derivada, y)\n",
        "print('A segunda derivada de L em relação a y é: ')\n",
        "L_segunda_derivada"
      ],
      "metadata": {
        "colab": {
          "base_uri": "https://localhost:8080/",
          "height": 56
        },
        "id": "Xy28dtrpiJwq",
        "outputId": "316ad9b5-6af4-473b-8b75-f381660390a3"
      },
      "execution_count": 8,
      "outputs": [
        {
          "output_type": "stream",
          "name": "stdout",
          "text": [
            "A segunda derivada de L em relação a y é: \n"
          ]
        },
        {
          "output_type": "execute_result",
          "data": {
            "text/plain": [
              "60*y**3 - 3510*y"
            ],
            "text/latex": "$\\displaystyle 60 y^{3} - 3510 y$"
          },
          "metadata": {},
          "execution_count": 8
        }
      ]
    },
    {
      "cell_type": "code",
      "source": [
        "# Verificar os pontos críticos e o valor da função L nesses pontos\n",
        "for ponto in pontos_criticos:\n",
        "    if ponto <= max(pontos_criticos):\n",
        "        L_valor = L.subs(y, ponto)\n",
        "        concavidade = L_segunda_derivada.subs(y, ponto)\n",
        "\n",
        "        if concavidade > 0:\n",
        "            natureza = 'mínimo'\n",
        "        elif concavidade < 0:\n",
        "            natureza = 'máximo'\n",
        "        else:\n",
        "            natureza = 'indefinido (possível ponto de inflexão)'\n",
        "        print(f'Coordenada: ({ponto}, {L_valor})')\n",
        "        print(f'Para y = {ponto}, L = {L_valor}, é um ponto de {natureza} local\\n')"
      ],
      "metadata": {
        "colab": {
          "base_uri": "https://localhost:8080/",
          "height": 0
        },
        "id": "d88_wAGkkt0J",
        "outputId": "b4831439-2b0c-4098-e254-eb5dc2f6c0b3"
      },
      "execution_count": 9,
      "outputs": [
        {
          "output_type": "stream",
          "name": "stdout",
          "text": [
            "Coordenada: (-9, -171342)\n",
            "Para y = -9, L = -171342, é um ponto de máximo local\n",
            "\n",
            "Coordenada: (-6, -186408)\n",
            "Para y = -6, L = -186408, é um ponto de mínimo local\n",
            "\n",
            "Coordenada: (6, 132408)\n",
            "Para y = 6, L = 132408, é um ponto de máximo local\n",
            "\n",
            "Coordenada: (9, 117342)\n",
            "Para y = 9, L = 117342, é um ponto de mínimo local\n",
            "\n"
          ]
        }
      ]
    },
    {
      "cell_type": "code",
      "source": [],
      "metadata": {
        "id": "V3USN8mNk7Bk"
      },
      "execution_count": 9,
      "outputs": []
    },
    {
      "cell_type": "markdown",
      "source": [
        "### Questão 02 - Classificar os pontos críticos obtidos na questão anterior  utilizando o critério da segunda derivada."
      ],
      "metadata": {
        "id": "XNOdgwmVnNkt"
      }
    },
    {
      "cell_type": "code",
      "source": [
        "# Verificar os pontos críticos e o valor da função L nesses pontos\n",
        "print('Resposta - Questão 02')\n",
        "for ponto in pontos_criticos:\n",
        "    if ponto <= max(pontos_criticos):\n",
        "        L_valor = L.subs(y, ponto)\n",
        "        concavidade = L_segunda_derivada.subs(y, ponto)\n",
        "\n",
        "        if concavidade > 0:\n",
        "            natureza = 'mínimo'\n",
        "        elif concavidade < 0:\n",
        "            natureza = 'máximo'\n",
        "        else:\n",
        "            natureza = 'indefinido (possível ponto de inflexão)'\n",
        "        print(f'Coordenada: ({ponto}, {L_valor})')\n",
        "        print(f'Para y = {ponto}, L = {L_valor}, é um ponto de {natureza} local\\n')"
      ],
      "metadata": {
        "colab": {
          "base_uri": "https://localhost:8080/",
          "height": 0
        },
        "id": "CGQAzxDznVSs",
        "outputId": "20ad0889-e5d1-458e-8d02-8645523882cf"
      },
      "execution_count": 34,
      "outputs": [
        {
          "output_type": "stream",
          "name": "stdout",
          "text": [
            "Resposta - Questão 02\n",
            "Coordenada: (-9, -171342)\n",
            "Para y = -9, L = -171342, é um ponto de máximo local\n",
            "\n",
            "Coordenada: (-6, -186408)\n",
            "Para y = -6, L = -186408, é um ponto de mínimo local\n",
            "\n",
            "Coordenada: (6, 132408)\n",
            "Para y = 6, L = 132408, é um ponto de máximo local\n",
            "\n",
            "Coordenada: (9, 117342)\n",
            "Para y = 9, L = 117342, é um ponto de mínimo local\n",
            "\n"
          ]
        }
      ]
    },
    {
      "cell_type": "code",
      "source": [],
      "metadata": {
        "id": "u0ru6UEincoz"
      },
      "execution_count": 10,
      "outputs": []
    },
    {
      "cell_type": "markdown",
      "source": [
        "### Questão 03 - Determinar os intervalos nos quais o lucro é crescente e os intervalos nos quais o lucro é decrescente, complementando com a representação gráfica da função lucro."
      ],
      "metadata": {
        "id": "ynUNDPq9nhu6"
      }
    },
    {
      "cell_type": "code",
      "source": [
        "# Filtrar os pontos críticos que estão no intervalo -10 < y <= 10\n",
        "pontos_criticos_validos = [p for p in pontos_criticos if -10 <= p <= 10]\n",
        "pontos_criticos_validos = sorted(pontos_criticos_validos)\n",
        "\n",
        "# Adicionar os limites do intervalo [-10, 10]\n",
        "pontos_criticos_validos = [-10] + pontos_criticos_validos + [10]\n",
        "\n",
        "# Verificar o sinal da derivada nos intervalos definidos pelos pontos críticos\n",
        "intervalos = []\n",
        "for i in range(len(pontos_criticos_validos) - 1):\n",
        "    start = pontos_criticos_validos[i]\n",
        "    end = pontos_criticos_validos[i + 1]\n",
        "    mid_point = (start + end) / 2\n",
        "\n",
        "    # Avaliar o sinal da derivada no ponto médio do intervalo\n",
        "    derivative_at_mid = L_primeira_derivada.subs(y, mid_point)\n",
        "\n",
        "    if derivative_at_mid > 0:\n",
        "        intervalos.append((start, end, \"tem seu crescimento\"))\n",
        "    elif derivative_at_mid < 0:\n",
        "        intervalos.append((start, end, \"tem seu decrescimento\"))\n",
        "\n",
        "# Imprimir os intervalos de crescimento e decrescimento\n",
        "print('Resposta - Questão 03')\n",
        "for intervalo in intervalos:\n",
        "    print(f\"\\n- A função {intervalo[2]} no intervalo ]{intervalo[0]}, {intervalo[1]}[ \\n\")"
      ],
      "metadata": {
        "colab": {
          "base_uri": "https://localhost:8080/",
          "height": 0
        },
        "id": "a0W93b74nn83",
        "outputId": "b2068112-a871-41a8-f43b-134d4ed3b959"
      },
      "execution_count": 33,
      "outputs": [
        {
          "output_type": "stream",
          "name": "stdout",
          "text": [
            "Resposta - Questão 03\n",
            "\n",
            "- A função tem seu crescimento no intervalo ]-10, -9[ \n",
            "\n",
            "\n",
            "- A função tem seu decrescimento no intervalo ]-9, -6[ \n",
            "\n",
            "\n",
            "- A função tem seu crescimento no intervalo ]-6, 6[ \n",
            "\n",
            "\n",
            "- A função tem seu decrescimento no intervalo ]6, 9[ \n",
            "\n",
            "\n",
            "- A função tem seu crescimento no intervalo ]9, 10[ \n",
            "\n"
          ]
        }
      ]
    },
    {
      "cell_type": "code",
      "source": [
        "# Converter a derivada para uma função lambda que pode ser usada com NumPy\n",
        "L_lambda = sp.lambdify(y, L, 'numpy')\n",
        "\n",
        "# Definir o tamanho da figura (aumentando o gráfico)\n",
        "plt.figure(figsize=(10, 6))  # Aumentar o tamanho para 10x6 polegadas\n",
        "\n",
        "# Criar um intervalo de valores de V para plotar o gráfico\n",
        "y_intervalo_valores = np.linspace(-10, 10, 1000)\n",
        "\n",
        "# Calcular os valores da derivada para esses pontos\n",
        "L_valores = L_lambda(y_intervalo_valores)\n",
        "\n",
        "# Plotar o gráfico da primeira derivada\n",
        "plt.plot(y_intervalo_valores, L_valores, label=\"L(y)\", color='#e91c5d')\n",
        "plt.axhline(0, color='black',linewidth=0.5)  # linha y = 0 para referência\n",
        "plt.title(\"Gráfico de L(y)\")\n",
        "plt.xlabel('y')\n",
        "plt.ylabel(\"L(y)\")\n",
        "plt.grid(True)\n",
        "\n",
        "# Imprimir os pontos criticos no gráfico com as coordenadas e classificação\n",
        "for ponto in pontos_criticos:\n",
        "    if ponto <= max(pontos_criticos):\n",
        "        L_valor = L.subs(y, ponto)\n",
        "        plt.plot(ponto, L_valor, 'o', color='black')\n",
        "        plt.text(ponto, L_valor+8000, f'({ponto}, {L_valor})', fontsize=9)\n",
        "        concavidade = L_segunda_derivada.subs(y, ponto)\n",
        "\n",
        "        if concavidade > 0:\n",
        "            natureza = 'mínimo'\n",
        "        elif concavidade < 0:\n",
        "            natureza = 'máximo'\n",
        "        else:\n",
        "            natureza = 'indefinido (possível ponto de inflexão)'\n",
        "        plt.text(ponto, L_valor+17000, f'{natureza} local', fontsize=9)\n",
        "\n",
        "plt.legend()\n",
        "plt.show()"
      ],
      "metadata": {
        "colab": {
          "base_uri": "https://localhost:8080/",
          "height": 565
        },
        "id": "AhE7Baz7oDbe",
        "outputId": "e3540a0d-9312-465f-e1e2-8426bd6422d9"
      },
      "execution_count": 12,
      "outputs": [
        {
          "output_type": "display_data",
          "data": {
            "text/plain": [
              "<Figure size 1000x600 with 1 Axes>"
            ],
            "image/png": "[encoded data removed]"
          },
          "metadata": {}
        }
      ]
    },
    {
      "cell_type": "markdown",
      "source": [
        "### Questão 04 - Contextualize os intervalos obtidos na Questão 3"
      ],
      "metadata": {
        "id": "PaI0PW_ZsjZQ"
      }
    },
    {
      "cell_type": "code",
      "source": [
        "# Função para calcular o ano, através da variável y\n",
        "def descobrir_ano(y):\n",
        "  if y == 0 :\n",
        "    ano = 2024\n",
        "    return ano\n",
        "  elif y > 0 :\n",
        "    ano = 2024 + y\n",
        "    return ano\n",
        "  elif y < 0 :\n",
        "    ano = 2024 + y\n",
        "    return ano\n",
        "\n",
        "def calcular_valor(numero):\n",
        "    L_valor = L.subs(y, numero)\n",
        "    return L_valor\n",
        "\n",
        "def definir_tipo(n1, n2):\n",
        "  n1 = calcular_valor(n1)\n",
        "  n2 = calcular_valor(n2)\n",
        "  if (n2) - (n1) > 0 :\n",
        "    return f'Durante o intervalo, é obtido um crescimento total de R${(n2)-(n1)}'\n",
        "  elif (n2) - (n1) < 0 :\n",
        "    return f'Durante o intervalo, é obtido um prejuízo de R${(n2) - (n1)}'\n",
        "  elif (n2) - (n1) == 0 :\n",
        "    return f'Durante o intervalo, não ocorre mudanças'\n",
        "  else :\n",
        "    return f'Erro'\n",
        "\n",
        "\n",
        "# Filtrar os pontos críticos que estão no intervalo -10 < y <= 10\n",
        "pontos_criticos_validos = [p for p in pontos_criticos if -10 <= p <= 10]\n",
        "pontos_criticos_validos = sorted(pontos_criticos_validos)\n",
        "\n",
        "# Adicionar os limites do intervalo [-10, 10]\n",
        "pontos_criticos_validos = [-10] + pontos_criticos_validos + [10]\n",
        "\n",
        "# Verificar o sinal da derivada nos intervalos definidos pelos pontos críticos\n",
        "intervalos = []\n",
        "for i in range(len(pontos_criticos_validos) - 1):\n",
        "    start = pontos_criticos_validos[i]\n",
        "    end = pontos_criticos_validos[i + 1]\n",
        "    mid_point = (start + end) / 2\n",
        "\n",
        "    # Avaliar o sinal da derivada no ponto médio do intervalo\n",
        "    derivative_at_mid = L_primeira_derivada.subs(y, mid_point)\n",
        "\n",
        "    if derivative_at_mid > 0:\n",
        "        intervalos.append((start, end, \"tem seu crescimento\"))\n",
        "    elif derivative_at_mid < 0:\n",
        "        intervalos.append((start, end, \"tem seu decrescimento\"))\n",
        "\n",
        "# Imprimir os intervalos de crescimento e decrescimento\n",
        "print('Resposta - Questão 04')\n",
        "for intervalo in intervalos:\n",
        "    n1 = int(intervalo[0])\n",
        "    n2 = int(intervalo[1])\n",
        "    print(f\"\\n- O lucro (R$) estimado para a empresa {intervalo[2]} local entre {descobrir_ano(n1)} a {descobrir_ano(n2)}\")\n",
        "    print(f'  de R${calcular_valor(n1)} a R${calcular_valor(n2)}')\n",
        "    print(f'  {definir_tipo(n1,n2)}\\n')\n"
      ],
      "metadata": {
        "colab": {
          "base_uri": "https://localhost:8080/",
          "height": 0
        },
        "id": "EceC8MV0ssrw",
        "outputId": "a34dfc07-c744-458f-f69e-9aafc5b6563b"
      },
      "execution_count": 32,
      "outputs": [
        {
          "output_type": "stream",
          "name": "stdout",
          "text": [
            "Resposta a Questão 04\n",
            "\n",
            "- O lucro (R$) estimado para a empresa tem seu crescimento local entre 2014 a 2015\n",
            "  de R$-179400 a R$-171342\n",
            "  Durante o intervalo, é obtido um crescimento total de R$8058\n",
            "\n",
            "\n",
            "- O lucro (R$) estimado para a empresa tem seu decrescimento local entre 2015 a 2018\n",
            "  de R$-171342 a R$-186408\n",
            "  Durante o intervalo, é obtido um prejuízo de R$-15066\n",
            "\n",
            "\n",
            "- O lucro (R$) estimado para a empresa tem seu crescimento local entre 2018 a 2030\n",
            "  de R$-186408 a R$132408\n",
            "  Durante o intervalo, é obtido um crescimento total de R$318816\n",
            "\n",
            "\n",
            "- O lucro (R$) estimado para a empresa tem seu decrescimento local entre 2030 a 2033\n",
            "  de R$132408 a R$117342\n",
            "  Durante o intervalo, é obtido um prejuízo de R$-15066\n",
            "\n",
            "\n",
            "- O lucro (R$) estimado para a empresa tem seu crescimento local entre 2033 a 2034\n",
            "  de R$117342 a R$125400\n",
            "  Durante o intervalo, é obtido um crescimento total de R$8058\n",
            "\n"
          ]
        }
      ]
    },
    {
      "cell_type": "code",
      "source": [],
      "metadata": {
        "id": "R5VABbc6t10E"
      },
      "execution_count": null,
      "outputs": []
    }
  ]
}