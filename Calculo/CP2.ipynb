{
  "nbformat": 4,
  "nbformat_minor": 0,
  "metadata": {
    "colab": {
      "provenance": []
    },
    "kernelspec": {
      "name": "python3",
      "display_name": "Python 3"
    },
    "language_info": {
      "name": "python"
    }
  },
  "cells": [
    {
      "cell_type": "code",
      "execution_count": null,
      "metadata": {
        "id": "liyD8pEiF9Z1"
      },
      "outputs": [],
      "source": [
        "import sympy as sp\n",
        "from sympy import *\n",
        "import numpy as np\n",
        "import matplotlib.pyplot as plt"
      ]
    },
    {
      "cell_type": "code",
      "source": [
        "x = sp.symbols('x')\n",
        "y = sp.symbols('y')\n",
        "C = sp.symbols('C')\n"
      ],
      "metadata": {
        "id": "d8cOz_5eGqQK"
      },
      "execution_count": null,
      "outputs": []
    },
    {
      "cell_type": "markdown",
      "source": [
        "Questão 1\n",
        "- Nesse contexto, o número de unidades vendidas que determinam um lucro mensal máximo é igual a:"
      ],
      "metadata": {
        "id": "2kt8sDfkPmD-"
      }
    },
    {
      "cell_type": "code",
      "source": [
        "N = sp.symbols('N')\n",
        "custo = 0.04*N**2 - 151.12*N + 480000 # Custo em reais (R$) | N -> centenas de unidades\n",
        "preco_unidade = 560 - 0.2*N\n",
        "receita = 560*N - 0.2*N**2\n",
        "print(receita)\n",
        "lucro = receita - (custo)\n",
        "lucro\n",
        "\n"
      ],
      "metadata": {
        "colab": {
          "base_uri": "https://localhost:8080/",
          "height": 56
        },
        "id": "hvdwr8WAP6or",
        "outputId": "067f98b2-b087-4502-f089-591ffc61ff4a"
      },
      "execution_count": null,
      "outputs": [
        {
          "output_type": "stream",
          "name": "stdout",
          "text": [
            "-0.2*N**2 + 560*N\n"
          ]
        },
        {
          "output_type": "execute_result",
          "data": {
            "text/plain": [
              "-0.24*N**2 + 711.12*N - 480000"
            ],
            "text/latex": "$\\displaystyle - 0.24 N^{2} + 711.12 N - 480000$"
          },
          "metadata": {},
          "execution_count": 58
        }
      ]
    },
    {
      "cell_type": "code",
      "source": [
        "lucro_derivada = sp.diff(lucro, N)\n",
        "lucro_derivada"
      ],
      "metadata": {
        "colab": {
          "base_uri": "https://localhost:8080/",
          "height": 38
        },
        "id": "LUH_LW5hSGsh",
        "outputId": "e8be92a5-73f8-44d6-e4bb-db53cbe976dc"
      },
      "execution_count": null,
      "outputs": [
        {
          "output_type": "execute_result",
          "data": {
            "text/plain": [
              "711.12 - 0.48*N"
            ],
            "text/latex": "$\\displaystyle 711.12 - 0.48 N$"
          },
          "metadata": {},
          "execution_count": 59
        }
      ]
    },
    {
      "cell_type": "code",
      "source": [
        "pontos_criticos = sp.solve(lucro_derivada, N)\n",
        "ponto_max = round(pontos_criticos[0],1)\n",
        "unidades_lucro_max = round(pontos_criticos[0]*100)\n",
        "print(f'Pontos críticos são: {ponto_max}')\n",
        "print(f'O número de unidades vendidas para obter o lucro mensal máximo é {unidades_lucro_max}')"
      ],
      "metadata": {
        "colab": {
          "base_uri": "https://localhost:8080/"
        },
        "id": "6epZolZsSVC5",
        "outputId": "a17c46ac-2625-4082-f5dc-5cb107198a99"
      },
      "execution_count": null,
      "outputs": [
        {
          "output_type": "stream",
          "name": "stdout",
          "text": [
            "Pontos críticos são: 1481.5\n",
            "O número de unidades vendidas para obter o lucro mensal máximo é 148150\n"
          ]
        }
      ]
    },
    {
      "cell_type": "markdown",
      "source": [
        "Questão 02\n",
        "- Utilizando como referência o enunciado da \"QUESTÃO 1\", podemos afirmar que o lucro mensal máximo é estimado em:"
      ],
      "metadata": {
        "id": "C3MkOB7DTatW"
      }
    },
    {
      "cell_type": "code",
      "source": [
        "lucro_max = lucro.subs(N, ponto_max)\n",
        "lucro_max"
      ],
      "metadata": {
        "colab": {
          "base_uri": "https://localhost:8080/",
          "height": 37
        },
        "id": "pOEKJdUAT6cr",
        "outputId": "0a1ea643-4c7c-409c-a1b6-6a9cdc257f75"
      },
      "execution_count": null,
      "outputs": [
        {
          "output_type": "execute_result",
          "data": {
            "text/plain": [
              "46761.7200000000"
            ],
            "text/latex": "$\\displaystyle 46761.72$"
          },
          "metadata": {},
          "execution_count": 64
        }
      ]
    },
    {
      "cell_type": "markdown",
      "source": [
        "Questão 03\n",
        "- Utilizando como referência o enunciado da \"QUESTÃO 1\", podemos afirmar que,  para gerar lucro mensal máximo, cada cento de unidades deve ser vendido por:"
      ],
      "metadata": {
        "id": "59zAC3paTjaA"
      }
    },
    {
      "cell_type": "code",
      "source": [
        "preco_unidade_valor = preco_unidade.subs(N, ponto_max)\n",
        "print(f'R${round(preco_unidade_valor,2)}')"
      ],
      "metadata": {
        "colab": {
          "base_uri": "https://localhost:8080/"
        },
        "id": "laMz0ZRPXjKa",
        "outputId": "109538dc-ba8a-445a-aaeb-7f3a5fd2fc5c"
      },
      "execution_count": null,
      "outputs": [
        {
          "output_type": "stream",
          "name": "stdout",
          "text": [
            "R$263.70\n"
          ]
        }
      ]
    },
    {
      "cell_type": "markdown",
      "source": [
        "Questão 04\n",
        "- Utilizando como referência o enunciado da \"QUESTÃO 1\", podemos afirmar que, no momento de lucro mensal máximo, a receita mensal atinge a marca de:"
      ],
      "metadata": {
        "id": "qc6dqH-1YJko"
      }
    },
    {
      "cell_type": "code",
      "source": [
        "receita_max = receita.subs(N, ponto_max)\n",
        "print(f'R${round(receita_max, 2)}')"
      ],
      "metadata": {
        "colab": {
          "base_uri": "https://localhost:8080/"
        },
        "id": "0skVPAohYI79",
        "outputId": "c804dbfd-3500-4c80-8b15-ea90603c3506"
      },
      "execution_count": null,
      "outputs": [
        {
          "output_type": "stream",
          "name": "stdout",
          "text": [
            "R$390671.20\n"
          ]
        }
      ]
    },
    {
      "cell_type": "markdown",
      "source": [
        "Questão 05\n",
        "- Utilizando como referência o enunciado da \"QUESTÃO 1\", podemos afirmar que, no momento de lucro mensal máximo, o custo mensal atinge a marca de:"
      ],
      "metadata": {
        "id": "Cl70Dy_5Ygkv"
      }
    },
    {
      "cell_type": "code",
      "source": [
        "custo_max = custo.subs(N, ponto_max)\n",
        "print(f'R${round(custo_max, 2)}')"
      ],
      "metadata": {
        "colab": {
          "base_uri": "https://localhost:8080/"
        },
        "id": "9JRILOAXYkmB",
        "outputId": "f1195857-3ee2-4c81-cd2c-4b02008dc60b"
      },
      "execution_count": null,
      "outputs": [
        {
          "output_type": "stream",
          "name": "stdout",
          "text": [
            "R$343909.48\n"
          ]
        }
      ]
    },
    {
      "cell_type": "markdown",
      "source": [
        "Questão 06\n",
        "- integral indefinida da função f(x) = 48x³ + 33x² - 14x + 5."
      ],
      "metadata": {
        "id": "5COmi1IrHEHf"
      }
    },
    {
      "cell_type": "code",
      "source": [
        "f = 48*x**3+33*x**2-14*x+5\n",
        "integral_f = sp.integrate(f, x)\n",
        "integral_f + C"
      ],
      "metadata": {
        "colab": {
          "base_uri": "https://localhost:8080/",
          "height": 38
        },
        "id": "BGpkaFC3HHIG",
        "outputId": "f83fbc72-4d8e-4db4-ff45-9d388fcb358b"
      },
      "execution_count": null,
      "outputs": [
        {
          "output_type": "execute_result",
          "data": {
            "text/plain": [
              "C + 12*x**4 + 11*x**3 - 7*x**2 + 5*x"
            ],
            "text/latex": "$\\displaystyle C + 12 x^{4} + 11 x^{3} - 7 x^{2} + 5 x$"
          },
          "metadata": {},
          "execution_count": 9
        }
      ]
    },
    {
      "cell_type": "markdown",
      "source": [
        "Questão 07\n",
        "- F(y) é a integral indefinida da função f(y) = 3/y + 4/y²"
      ],
      "metadata": {
        "id": "PzQLCBeMIq1r"
      }
    },
    {
      "cell_type": "code",
      "source": [
        "f_2 = 3/y + 4/y**2\n",
        "integral_f2 = sp.integrate(f_2, y)\n",
        "integral_f2 + C"
      ],
      "metadata": {
        "colab": {
          "base_uri": "https://localhost:8080/",
          "height": 54
        },
        "id": "LxwHVqMPI09N",
        "outputId": "a1453bbd-5956-4cf3-d8be-b4a2f0e2a920"
      },
      "execution_count": null,
      "outputs": [
        {
          "output_type": "execute_result",
          "data": {
            "text/plain": [
              "C + 3*log(y) - 4/y"
            ],
            "text/latex": "$\\displaystyle C + 3 \\log{\\left(y \\right)} - \\frac{4}{y}$"
          },
          "metadata": {},
          "execution_count": 10
        }
      ]
    },
    {
      "cell_type": "markdown",
      "source": [
        "Na blioteca sympy 3 ln(y) == 3 log (y)"
      ],
      "metadata": {
        "id": "i4tqibNkJlKT"
      }
    },
    {
      "cell_type": "markdown",
      "source": [
        "Questão 08\n",
        "- O valor da integral indicada a seguir é:"
      ],
      "metadata": {
        "id": "4O8TBPIvJ0Rc"
      }
    },
    {
      "cell_type": "code",
      "source": [
        "f_3 = sp.root(y,3) - 1 / sp.root(y, 3)\n",
        "integral_f3 = sp.integrate(f_3, y)\n",
        "integral_f3 + C\n"
      ],
      "metadata": {
        "colab": {
          "base_uri": "https://localhost:8080/",
          "height": 56
        },
        "id": "gBTESdjLJ6rb",
        "outputId": "ee636e75-b5ec-4a4d-d90d-e10ce6128ecb"
      },
      "execution_count": null,
      "outputs": [
        {
          "output_type": "execute_result",
          "data": {
            "text/plain": [
              "C + 3*y**(4/3)/4 - 3*y**(2/3)/2"
            ],
            "text/latex": "$\\displaystyle C + \\frac{3 y^{\\frac{4}{3}}}{4} - \\frac{3 y^{\\frac{2}{3}}}{2}$"
          },
          "metadata": {},
          "execution_count": 19
        }
      ]
    },
    {
      "cell_type": "markdown",
      "source": [
        "![Captura de tela de 2024-10-07 19-58-25.png](data:image/png;base64,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)"
      ],
      "metadata": {
        "id": "ub02y-lUNKYQ"
      }
    },
    {
      "cell_type": "code",
      "source": [],
      "metadata": {
        "id": "jmMxp4IPKZ7s"
      },
      "execution_count": null,
      "outputs": []
    }
  ]
}