{
 "cells": [
  {
   "cell_type": "code",
   "execution_count": 1,
   "id": "02ac1179-f192-4bcd-b1aa-b5249600e9ea",
   "metadata": {
    "tags": []
   },
   "outputs": [],
   "source": [
    "import sympy as smp\n",
    "from sympy import *\n",
    "from math import e"
   ]
  },
  {
   "cell_type": "code",
   "execution_count": 13,
   "id": "d12d1929-a824-42c3-be24-d57bbd38d0b4",
   "metadata": {
    "tags": []
   },
   "outputs": [],
   "source": [
    "x= smp.symbols('x')\n"
   ]
  },
  {
   "cell_type": "code",
   "execution_count": 14,
   "id": "d1e084d4-cb95-4ccd-a6f1-e9f9b3c7173a",
   "metadata": {
    "tags": []
   },
   "outputs": [
    {
     "data": {
      "text/latex": [
       "$\\displaystyle x^{2}$"
      ],
      "text/plain": [
       "x**2"
      ]
     },
     "execution_count": 14,
     "metadata": {},
     "output_type": "execute_result"
    }
   ],
   "source": [
    "x**2"
   ]
  },
  {
   "cell_type": "code",
   "execution_count": 15,
   "id": "1561fca4-79e8-4ce5-922f-c5eb53c00eb7",
   "metadata": {
    "tags": []
   },
   "outputs": [
    {
     "data": {
      "text/latex": [
       "$\\displaystyle 2 x$"
      ],
      "text/plain": [
       "2*x"
      ]
     },
     "execution_count": 15,
     "metadata": {},
     "output_type": "execute_result"
    }
   ],
   "source": [
    "smp.diff(x**2)"
   ]
  },
  {
   "cell_type": "code",
   "execution_count": 16,
   "id": "7ebc3f75-277a-4523-91c4-848f0395be6d",
   "metadata": {
    "tags": []
   },
   "outputs": [
    {
     "data": {
      "text/latex": [
       "$\\displaystyle 2 x$"
      ],
      "text/plain": [
       "2*x"
      ]
     },
     "execution_count": 16,
     "metadata": {},
     "output_type": "execute_result"
    }
   ],
   "source": [
    "smp.diff('x**2')"
   ]
  },
  {
   "cell_type": "code",
   "execution_count": 17,
   "id": "d4a01117-24ff-486a-bc0a-993ef9f1b75c",
   "metadata": {
    "tags": []
   },
   "outputs": [
    {
     "name": "stdout",
     "output_type": "stream",
     "text": [
      "Exercício 1\n"
     ]
    },
    {
     "data": {
      "text/latex": [
       "$\\displaystyle \\left(18 x - 8\\right) \\left(11 x^{3} - 7 x^{2}\\right) + \\left(9 x^{2} - 8 x\\right) \\left(33 x^{2} - 14 x\\right)$"
      ],
      "text/plain": [
       "(18*x - 8)*(11*x**3 - 7*x**2) + (9*x**2 - 8*x)*(33*x**2 - 14*x)"
      ]
     },
     "execution_count": 17,
     "metadata": {},
     "output_type": "execute_result"
    }
   ],
   "source": [
    "print('Exercício 1')\n",
    "smp.diff('(9*(x**2) - 8*x)*(11*(x**3) - 7*(x**2))')"
   ]
  },
  {
   "cell_type": "code",
   "execution_count": 18,
   "id": "a14b9b56-18de-47bb-9700-cb738def7c57",
   "metadata": {
    "tags": []
   },
   "outputs": [
    {
     "name": "stdout",
     "output_type": "stream",
     "text": [
      "Exercício 2\n"
     ]
    },
    {
     "data": {
      "text/latex": [
       "$\\displaystyle \\frac{18 x - 8}{11 x - 7} - \\frac{11 \\cdot \\left(9 x^{2} - 8 x\\right)}{\\left(11 x - 7\\right)^{2}}$"
      ],
      "text/plain": [
       "(18*x - 8)/(11*x - 7) - 11*(9*x**2 - 8*x)/(11*x - 7)**2"
      ]
     },
     "execution_count": 18,
     "metadata": {},
     "output_type": "execute_result"
    }
   ],
   "source": [
    "print('Exercício 2')\n",
    "smp.diff('(9*(x**2) - 8*x)/(11*x - 7)')"
   ]
  },
  {
   "cell_type": "code",
   "execution_count": 19,
   "id": "62927a95-7eee-4111-806c-90cff53f3950",
   "metadata": {
    "tags": []
   },
   "outputs": [
    {
     "name": "stdout",
     "output_type": "stream",
     "text": [
      "Exercício 3\n"
     ]
    },
    {
     "data": {
      "text/latex": [
       "$\\displaystyle \\left(216 x^{2} - 96 x\\right) \\left(9 x^{3} - 6 x^{2}\\right)^{7}$"
      ],
      "text/plain": [
       "(216*x**2 - 96*x)*(9*x**3 - 6*x**2)**7"
      ]
     },
     "execution_count": 19,
     "metadata": {},
     "output_type": "execute_result"
    }
   ],
   "source": [
    "print('Exercício 3')\n",
    "smp.diff('(9*(x**3) - 6*(x**2))**8 ')"
   ]
  },
  {
   "cell_type": "code",
   "execution_count": 20,
   "id": "1d1a684e-5742-4df2-a648-c8844f4db14c",
   "metadata": {
    "tags": []
   },
   "outputs": [
    {
     "name": "stdout",
     "output_type": "stream",
     "text": [
      "Exercício 4\n"
     ]
    },
    {
     "data": {
      "text/latex": [
       "$\\displaystyle \\frac{4 x - \\frac{5}{3}}{\\left(6 x^{2} - 5 x\\right)^{\\frac{2}{3}}}$"
      ],
      "text/plain": [
       "(4*x - 5/3)/(6*x**2 - 5*x)**(2/3)"
      ]
     },
     "execution_count": 20,
     "metadata": {},
     "output_type": "execute_result"
    }
   ],
   "source": [
    "print('Exercício 4')\n",
    "smp.diff('(6*(x**2) - 5*x)**(1/3)')"
   ]
  },
  {
   "cell_type": "code",
   "execution_count": 14,
   "id": "2c2cb200-fbd1-4ab1-a198-785e138535ff",
   "metadata": {
    "tags": []
   },
   "outputs": [
    {
     "name": "stdout",
     "output_type": "stream",
     "text": [
      "Exercício 5\n"
     ]
    },
    {
     "data": {
      "text/latex": [
       "$\\displaystyle 7^{x^{2} - x} \\left(2 x - 1\\right) \\log{\\left(7 \\right)}$"
      ],
      "text/plain": [
       "7**(x**2 - x)*(2*x - 1)*log(7)"
      ]
     },
     "execution_count": 14,
     "metadata": {},
     "output_type": "execute_result"
    }
   ],
   "source": [
    "print('Exercício 5')\n",
    "f= 7**((x**2) - x)\n",
    "smp.diff(f)"
   ]
  },
  {
   "cell_type": "code",
   "execution_count": 22,
   "id": "2e554f34-6a0e-4894-bc02-c0b54734a767",
   "metadata": {
    "tags": []
   },
   "outputs": [
    {
     "name": "stdout",
     "output_type": "stream",
     "text": [
      "Exercício 6\n"
     ]
    },
    {
     "data": {
      "text/latex": [
       "$\\displaystyle \\frac{6 x - 4}{3 x^{2} - 4 x}$"
      ],
      "text/plain": [
       "(6*x - 4)/(3*x**2 - 4*x)"
      ]
     },
     "execution_count": 22,
     "metadata": {},
     "output_type": "execute_result"
    }
   ],
   "source": [
    "print('Exercício 6')\n",
    "smp.diff('ln(3*(x**2) - 4*x)')"
   ]
  },
  {
   "cell_type": "code",
   "execution_count": 23,
   "id": "bd0681b8-181f-4792-ad4c-2796cf5bf57a",
   "metadata": {
    "tags": []
   },
   "outputs": [
    {
     "name": "stdout",
     "output_type": "stream",
     "text": [
      "Exercício 7\n"
     ]
    },
    {
     "data": {
      "text/latex": [
       "$\\displaystyle 2.718281828459045^{x^{2} + x} \\left(2.0 x + 0.9999999999999999\\right)$"
      ],
      "text/plain": [
       "2.718281828459045**(x**2 + x)*(2.0*x + 0.9999999999999999)"
      ]
     },
     "execution_count": 23,
     "metadata": {},
     "output_type": "execute_result"
    }
   ],
   "source": [
    "print('Exercício 7')\n",
    "smp.diff(f'{e}**(x**2 + x)')"
   ]
  },
  {
   "cell_type": "code",
   "execution_count": 24,
   "id": "8a4e1803-5576-4c21-a220-f45cba23fa0b",
   "metadata": {
    "tags": []
   },
   "outputs": [
    {
     "name": "stdout",
     "output_type": "stream",
     "text": [
      "Exercício 8\n"
     ]
    },
    {
     "data": {
      "text/latex": [
       "$\\displaystyle - \\frac{2}{x^{2}} + \\frac{6}{x^{3}} - \\frac{12}{x^{4}}$"
      ],
      "text/plain": [
       "-2/x**2 + 6/x**3 - 12/x**4"
      ]
     },
     "execution_count": 24,
     "metadata": {},
     "output_type": "execute_result"
    }
   ],
   "source": [
    "print('Exercício 8')\n",
    "smp.diff('4/(x**3) - 3/(x**2) + 2/x')"
   ]
  },
  {
   "cell_type": "code",
   "execution_count": 3,
   "id": "c4261866-c34e-433b-9e1a-0f1221bc228d",
   "metadata": {
    "tags": []
   },
   "outputs": [
    {
     "name": "stdout",
     "output_type": "stream",
     "text": [
      "Exercício 9\n"
     ]
    },
    {
     "data": {
      "text/latex": [
       "$\\displaystyle \\frac{8 x - 3}{\\left(4 x^{2} - 3 x\\right) \\log{\\left(10 \\right)}}$"
      ],
      "text/plain": [
       "(8*x - 3)/((4*x**2 - 3*x)*log(10))"
      ]
     },
     "execution_count": 3,
     "metadata": {},
     "output_type": "execute_result"
    }
   ],
   "source": [
    "print('Exercício 9')\n",
    "x = smp.symbols('x')\n",
    "f = smp.log(4*(x**2)-3*x, 10)\n",
    "smp.diff(f)"
   ]
  },
  {
   "cell_type": "code",
   "execution_count": 13,
   "id": "1366f7cc-40fe-4681-bb2c-288c628b3ee4",
   "metadata": {
    "tags": []
   },
   "outputs": [
    {
     "name": "stdout",
     "output_type": "stream",
     "text": [
      "Exercício 10\n"
     ]
    },
    {
     "data": {
      "text/latex": [
       "$\\displaystyle - \\frac{9}{\\left(3 x - 5\\right)^{2}}$"
      ],
      "text/plain": [
       "-9/(3*x - 5)**2"
      ]
     },
     "execution_count": 13,
     "metadata": {},
     "output_type": "execute_result"
    }
   ],
   "source": [
    "print('Exercício 10')\n",
    "f = smp.ln(3*x - 5)\n",
    "smp.diff(smp.diff(f))"
   ]
  },
  {
   "cell_type": "code",
   "execution_count": null,
   "id": "a05d295e",
   "metadata": {},
   "outputs": [],
   "source": [
    "# ln = log no sympy"
   ]
  },
  {
   "cell_type": "code",
   "execution_count": null,
   "id": "e7350481-3dff-4f1d-b622-c6b250d01e7b",
   "metadata": {},
   "outputs": [],
   "source": []
  }
 ],
 "metadata": {
  "kernelspec": {
   "display_name": "base",
   "language": "python",
   "name": "python3"
  },
  "language_info": {
   "codemirror_mode": {
    "name": "ipython",
    "version": 3
   },
   "file_extension": ".py",
   "mimetype": "text/x-python",
   "name": "python",
   "nbconvert_exporter": "python",
   "pygments_lexer": "ipython3",
   "version": "3.12.4"
  }
 },
 "nbformat": 4,
 "nbformat_minor": 5
}
